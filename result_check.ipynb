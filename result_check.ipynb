{
 "nbformat": 4,
 "nbformat_minor": 2,
 "metadata": {
  "language_info": {
   "name": "python",
   "codemirror_mode": {
    "name": "ipython",
    "version": 3
   },
   "version": "3.6.9-final"
  },
  "orig_nbformat": 2,
  "file_extension": ".py",
  "mimetype": "text/x-python",
  "name": "python",
  "npconvert_exporter": "python",
  "pygments_lexer": "ipython3",
  "version": 3,
  "kernelspec": {
   "name": "python36964bitkits3dunetpipenv82f26b535e5342ec84d3dd05020c201e",
   "display_name": "Python 3.6.9 64-bit ('kits_3DUNet': pipenv)"
  }
 },
 "cells": [
  {
   "cell_type": "markdown",
   "metadata": {},
   "source": []
  },
  {
   "cell_type": "code",
   "execution_count": 1,
   "metadata": {},
   "outputs": [],
   "source": [
    "import pandas as pd \n",
    "import numpy as np \n",
    "import matplotlib.pyplot as plt \n",
    "import seaborn as sns\n"
   ]
  },
  {
   "cell_type": "code",
   "execution_count": 10,
   "metadata": {},
   "outputs": [],
   "source": [
    "path1 = '/home/higuchi/ssd/Desktop/kits_3DUNet/experiment/second_kits/lesion_evaluation.csv'\n",
    "path2 = '/home/higuchi/ssd/Desktop/kits_3DUNet/experiment/reverse_kits/lesion_evaluation.csv'\n",
    "\n",
    "df1=pd.read_csv(path1)\n",
    "df2=pd.read_csv(path2)\n"
   ]
  },
  {
   "cell_type": "code",
   "execution_count": 4,
   "metadata": {},
   "outputs": [
    {
     "data": {
      "text/html": "<div>\n<style scoped>\n    .dataframe tbody tr th:only-of-type {\n        vertical-align: middle;\n    }\n\n    .dataframe tbody tr th {\n        vertical-align: top;\n    }\n\n    .dataframe thead th {\n        text-align: right;\n    }\n</style>\n<table border=\"1\" class=\"dataframe\">\n  <thead>\n    <tr style=\"text-align: right;\">\n      <th></th>\n      <th>filename</th>\n      <th>label_name</th>\n      <th>existence</th>\n      <th>dice</th>\n      <th>recall</th>\n      <th>precision</th>\n    </tr>\n  </thead>\n  <tbody>\n    <tr>\n      <th>0</th>\n      <td>00019.nii.gz</td>\n      <td>HCC</td>\n      <td>\"1\"</td>\n      <td>0.9476448636456838</td>\n      <td>0.9997854047543231</td>\n      <td>0.9006731959502228</td>\n    </tr>\n    <tr>\n      <th>1</th>\n      <td>00019.nii.gz</td>\n      <td>cyst</td>\n      <td>\"1\"</td>\n      <td>0.03903559127439724</td>\n      <td>0.020581113801452784</td>\n      <td>0.37777777777777777</td>\n    </tr>\n    <tr>\n      <th>2</th>\n      <td>00019.nii.gz</td>\n      <td>angioma</td>\n      <td>\"0\"</td>\n      <td>\"\"</td>\n      <td>\"\"</td>\n      <td>\"\"</td>\n    </tr>\n    <tr>\n      <th>3</th>\n      <td>00023.nii.gz</td>\n      <td>HCC</td>\n      <td>\"1\"</td>\n      <td>0.9592040576687894</td>\n      <td>0.9984919593708157</td>\n      <td>0.9228908508477225</td>\n    </tr>\n    <tr>\n      <th>4</th>\n      <td>00023.nii.gz</td>\n      <td>cyst</td>\n      <td>\"1\"</td>\n      <td>0.0</td>\n      <td>0.0</td>\n      <td>0.0</td>\n    </tr>\n  </tbody>\n</table>\n</div>",
      "text/plain": "       filename label_name existence                 dice  \\\n0  00019.nii.gz        HCC       \"1\"   0.9476448636456838   \n1  00019.nii.gz       cyst       \"1\"  0.03903559127439724   \n2  00019.nii.gz    angioma       \"0\"                   \"\"   \n3  00023.nii.gz        HCC       \"1\"   0.9592040576687894   \n4  00023.nii.gz       cyst       \"1\"                  0.0   \n\n                 recall            precision  \n0    0.9997854047543231   0.9006731959502228  \n1  0.020581113801452784  0.37777777777777777  \n2                    \"\"                   \"\"  \n3    0.9984919593708157   0.9228908508477225  \n4                   0.0                  0.0  "
     },
     "execution_count": 4,
     "metadata": {},
     "output_type": "execute_result"
    }
   ],
   "source": [
    "df2.head()"
   ]
  },
  {
   "cell_type": "code",
   "execution_count": 18,
   "metadata": {},
   "outputs": [
    {
     "data": {
      "text/html": "<div>\n<style scoped>\n    .dataframe tbody tr th:only-of-type {\n        vertical-align: middle;\n    }\n\n    .dataframe tbody tr th {\n        vertical-align: top;\n    }\n\n    .dataframe thead th {\n        text-align: right;\n    }\n</style>\n<table border=\"1\" class=\"dataframe\">\n  <thead>\n    <tr style=\"text-align: right;\">\n      <th></th>\n      <th>filename</th>\n      <th>dice</th>\n    </tr>\n  </thead>\n  <tbody>\n    <tr>\n      <th>0</th>\n      <td>00001.nii.gz</td>\n      <td>0.000</td>\n    </tr>\n    <tr>\n      <th>1</th>\n      <td>00017.nii.gz</td>\n      <td>0.000</td>\n    </tr>\n    <tr>\n      <th>2</th>\n      <td>00020.nii.gz</td>\n      <td>0.000</td>\n    </tr>\n    <tr>\n      <th>3</th>\n      <td>00022.nii.gz</td>\n      <td>0.000</td>\n    </tr>\n    <tr>\n      <th>4</th>\n      <td>00043.nii.gz</td>\n      <td>0.000</td>\n    </tr>\n    <tr>\n      <th>5</th>\n      <td>00082.nii.gz</td>\n      <td>0.002</td>\n    </tr>\n    <tr>\n      <th>6</th>\n      <td>00094.nii.gz</td>\n      <td>0.226</td>\n    </tr>\n    <tr>\n      <th>7</th>\n      <td>00115.nii.gz</td>\n      <td>0.000</td>\n    </tr>\n    <tr>\n      <th>8</th>\n      <td>00120.nii.gz</td>\n      <td>0.000</td>\n    </tr>\n    <tr>\n      <th>9</th>\n      <td>00137.nii.gz</td>\n      <td>0.000</td>\n    </tr>\n    <tr>\n      <th>10</th>\n      <td>00173.nii.gz</td>\n      <td>0.038</td>\n    </tr>\n    <tr>\n      <th>11</th>\n      <td>00174.nii.gz</td>\n      <td>0.000</td>\n    </tr>\n    <tr>\n      <th>12</th>\n      <td>00205.nii.gz</td>\n      <td>0.000</td>\n    </tr>\n    <tr>\n      <th>0</th>\n      <td>00019.nii.gz</td>\n      <td>0.039</td>\n    </tr>\n    <tr>\n      <th>1</th>\n      <td>00023.nii.gz</td>\n      <td>0.000</td>\n    </tr>\n    <tr>\n      <th>2</th>\n      <td>00054.nii.gz</td>\n      <td>0.499</td>\n    </tr>\n    <tr>\n      <th>3</th>\n      <td>00093.nii.gz</td>\n      <td>0.210</td>\n    </tr>\n    <tr>\n      <th>4</th>\n      <td>00096.nii.gz</td>\n      <td>0.000</td>\n    </tr>\n    <tr>\n      <th>5</th>\n      <td>00123.nii.gz</td>\n      <td>0.000</td>\n    </tr>\n    <tr>\n      <th>6</th>\n      <td>00127.nii.gz</td>\n      <td>0.000</td>\n    </tr>\n    <tr>\n      <th>7</th>\n      <td>00136.nii.gz</td>\n      <td>0.000</td>\n    </tr>\n    <tr>\n      <th>8</th>\n      <td>00141.nii.gz</td>\n      <td>0.000</td>\n    </tr>\n    <tr>\n      <th>9</th>\n      <td>00153.nii.gz</td>\n      <td>0.000</td>\n    </tr>\n    <tr>\n      <th>10</th>\n      <td>00188.nii.gz</td>\n      <td>0.000</td>\n    </tr>\n    <tr>\n      <th>11</th>\n      <td>00191.nii.gz</td>\n      <td>0.236</td>\n    </tr>\n    <tr>\n      <th>12</th>\n      <td>00201.nii.gz</td>\n      <td>0.000</td>\n    </tr>\n  </tbody>\n</table>\n</div>",
      "text/plain": "        filename   dice\n0   00001.nii.gz  0.000\n1   00017.nii.gz  0.000\n2   00020.nii.gz  0.000\n3   00022.nii.gz  0.000\n4   00043.nii.gz  0.000\n5   00082.nii.gz  0.002\n6   00094.nii.gz  0.226\n7   00115.nii.gz  0.000\n8   00120.nii.gz  0.000\n9   00137.nii.gz  0.000\n10  00173.nii.gz  0.038\n11  00174.nii.gz  0.000\n12  00205.nii.gz  0.000\n0   00019.nii.gz  0.039\n1   00023.nii.gz  0.000\n2   00054.nii.gz  0.499\n3   00093.nii.gz  0.210\n4   00096.nii.gz  0.000\n5   00123.nii.gz  0.000\n6   00127.nii.gz  0.000\n7   00136.nii.gz  0.000\n8   00141.nii.gz  0.000\n9   00153.nii.gz  0.000\n10  00188.nii.gz  0.000\n11  00191.nii.gz  0.236\n12  00201.nii.gz  0.000"
     },
     "execution_count": 18,
     "metadata": {},
     "output_type": "execute_result"
    }
   ],
   "source": [
    "dice_df1 = df1[df1['label_name'] == 'cyst'][['filename', 'dice']].reset_index(drop = True)\n",
    "dice_df2 = df2[df2['label_name'] == 'cyst'][['filename', 'dice']].reset_index(drop = True)\n",
    "\n",
    "dice_df = pd.concat([dice_df1, dice_df2])\n",
    "dice_df['dice'] = dice_df['dice'].apply(lambda x: round(float(x),3))\n",
    "dice_df.to_csv('')\n"
   ]
  },
  {
   "cell_type": "code",
   "execution_count": null,
   "metadata": {},
   "outputs": [],
   "source": []
  }
 ]
}